{
 "cells": [
  {
   "cell_type": "markdown",
   "id": "003a52af",
   "metadata": {},
   "source": [
    "## Baigiamojo darbo tema – 2025 metų stojančiųjų į aukštąsias mokyklas duomenų analizė ir prognozavimas naudojant mašininio mokymosi metodus.\n",
    "\n",
    "## Šio darbo tikslas buvo išnagrinėti stojančiųjų pasirinkimų tendencijas ir sukurti prognozinį modelį, kuris padėtų numatyti, ar stojantysis gaus kvietimą studijuoti.\n",
    "\n",
    "## Darbas susidėjo iš kelių dalių:\n",
    "\n",
    "## Pirmiausia atlikau duomenų analizę (EDA), kurioje išnagrinėjau finansavimo tipus, prioritetų pasiskirstymą, stojančiųjų amžių, lytį ir populiariausias studijų programas.\n",
    "\n",
    "## Vėliau sukūriau du modelius: Logistinę regresiją ir Random Forest.\n",
    "\n",
    "## Logistinė regresija pasiekė 67 % tikslumą, bet turėjo labai žemą preciziją.\n",
    "\n",
    "## Random Forest pasiekė 79 % tikslumą, žymiai geresnį balansą tarp metrikų ir parodė, kad svarbiausi kvietimo prognozės požymiai yra prioritetas, finansavimas ir amžius.\n",
    "\n",
    "## Rezultatus įvertinau naudodamas klaidų matricas, ROC kreives bei požymių svarbos analizę.\n",
    "\n",
    "## Išvados:\n",
    "\n",
    "## Daugiausia prašymų teikiama į valstybės finansuojamas vietas.\n",
    "\n",
    "## Populiariausios programos yra Medicina, Psichologija, Kineziterapija ir Teisė.\n",
    "\n",
    "## Modeliai parodė, kad kvietimo tikimybę labiausiai lemia stojančiojo prioritetas ir finansavimo tipas.\n",
    "\n",
    "## Praktiniam prognozavimui tinkamesnis yra Random Forest modelis.\n",
    "\n",
    "## Šis darbas parodė, kad duomenų analitika ir mašininis mokymasis gali būti sėkmingai pritaikyti švietimo srityje, siekiant geriau suprasti stojančiųjų elgseną ir priėmimo rezultatus."
   ]
  }
 ],
 "metadata": {
  "language_info": {
   "name": "python"
  }
 },
 "nbformat": 4,
 "nbformat_minor": 5
}
